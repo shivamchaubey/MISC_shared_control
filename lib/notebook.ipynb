{
 "cells": [
  {
   "cell_type": "code",
   "execution_count": 1,
   "id": "f92bed43",
   "metadata": {},
   "outputs": [],
   "source": [
    "\n",
    "\n",
    "import numpy as np\n",
    "from constraint_builder import NonConvexDecomposition\n",
    "import polytope  \n",
    "\n",
    "### Velocity constraints\n",
    "vx_max = 0.05  # Maximum velocity in x-direction (m/s)\n",
    "vy_max = 0.05  # Maximum velocity in y-direction (m/s)\n",
    "vel_vertices = np.array([[vx_max, vy_max], [vx_max, -vy_max], [-vx_max, -vy_max], [-vx_max, vy_max]])\n",
    "\n",
    "\n",
    "#### Acceleration constraints\n",
    "ax_max = 1.0  # Maximum acceleration in x-direction (m/s^2)\n",
    "ay_max = 1.0  # Maximum acceleration in y-direction (m/s^2)\n",
    "accel_vertices = np.array([[ax_max, ay_max], [ax_max, -ay_max], [-ax_max, -ay_max], [-ax_max, ay_max]])\n",
    "\n",
    "\n",
    "### In X-Y coordinate ###\n",
    "Workspace = np.array(([[178,  47],\n",
    "    [704,  47],\n",
    "    [704, 817],\n",
    "    [178, 817]]))\n",
    "\n",
    "\n",
    "## Convex Unsafe Region: Like vertices \n",
    "# Obs1 =  [array([[568, 429],\n",
    "Obs1 = np.array([[568, 429],\n",
    "                [703, 429],\n",
    "                [703, 816],\n",
    "                [568, 816]])\n",
    "\n",
    "Obs2 = np.array([[308, 181],\n",
    "                [438, 181],\n",
    "                [438, 691],\n",
    "                [308, 691]]) \n",
    "\n",
    "Obs3 = np.array([[437,  47],\n",
    "                [568,  47],\n",
    "                [568, 309],\n",
    "                [437, 309]])\n",
    "\n",
    "# Convex Inequality Constraints: Ax <= b\n",
    "w_poly = poly = polytope.qhull(Workspace)\n",
    "Obs = [Obs1, Obs2, Obs3]\n",
    "obs_poly = [polytope.qhull(box) for box in Obs]\n",
    "vel_poly = polytope.qhull(vel_vertices)\n",
    "accel_poly = polytope.qhull(accel_vertices)\n",
    "\n",
    "wA = w_poly.A\n",
    "wb = w_poly.b\n",
    "\n",
    "## velocity convex constraint\n",
    "## 0, 0 at x-y coordinate only vx, vy is constrained.\n",
    "F_v = np.hstack([np.zeros((vel_poly.A.shape[0], 2)), vel_poly.A])\n",
    "f_v = vel_poly.b\n",
    "\n",
    "# Sate Convex Inequality Constraints: Ax <= b\n",
    "F_w = np.hstack([wA, np.zeros((wA.shape[0], 2))])\n",
    "f_w = wb\n",
    "\n",
    "# Obstacle unsafe region\n",
    "## For each obstacle polygon convex unsafe set in x-y coor, 0, 0, added for velocity\n",
    "F_obs = []\n",
    "for obs in obs_poly:\n",
    "    F = np.hstack([obs.A, np.zeros((obs.A.shape[0], 2))])\n",
    "    fvec = obs.b\n",
    "    F_obs.append((F, fvec))\n",
    "\n",
    "safe_state_sets = [\n",
    "(F_w, f_w),\n",
    "(F_v, f_v),\n",
    "]\n",
    "\n",
    "# 2) Unsafe sets (inside of obstacles) as (A, b) with A x <= b\n",
    "unsafe_state_sets = []\n",
    "for obs in F_obs:\n",
    "    unsafe_state_sets.append((np.asarray(obs[0], dtype=float), np.asarray(obs[1], dtype=float)))\n",
    "\n",
    "# 3) Build facet-wise disjunctions with an optional margin (eps)\n",
    "nonconvex_decomp = NonConvexDecomposition(eps=0.0)\n",
    "Fx_list, fx_list = nonconvex_decomp.build(safe_state_sets, unsafe_state_sets)\n",
    "\n",
    "Gu = accel_poly.A\n",
    "gu = accel_poly.b\n",
    "\n",
    "# State transition matrix with damping\n",
    "dt = 0.1; damping_fun = 1 - 0.1 * dt\n",
    "A = np.array([[1, 0, dt, 0],\n",
    "                   [0, 1, 0, dt],\n",
    "                   [0, 0, damping_fun, 0],\n",
    "                   [0, 0, 0, damping_fun]])\n",
    "\n",
    "B = np.array([[0.5 * dt**2, 0],\n",
    "           [0, 0.5 * dt**2],\n",
    "           [dt, 0],\n",
    "           [0, dt]])\n",
    "\n",
    "\n",
    "E = np.array([[1., 0., 0., 0.],\n",
    "                           [0., 1., 0., 0.],\n",
    "                           [0., 0., 1., 0.],\n",
    "                           [0., 0., 0., 1.]])\n",
    "\n",
    "Gw = np.array([[ 1.,  0.,  0.,  0.],\n",
    "                             [ 0.,  1.,  0.,  0.],\n",
    "                             [ 0.,  0.,  1.,  0.],\n",
    "                             [ 0.,  0.,  0.,  1.],\n",
    "                             [-1., -0., -0., -0.],\n",
    "                             [-0., -1., -0., -0.],\n",
    "                             [-0., -0., -1., -0.],\n",
    "                             [-0., -0., -0., -1.]])\n",
    "        \n",
    "Fw = np.array([[0.00220696731294516, 0.00033361141907932, 0.01511132840251176, 0.00392036854057386, 0.00137375336326578, 0.00060107734896421, 0.01921057797980761, 0.00721068247405685]]).T\n",
    "      "
   ]
  },
  {
   "cell_type": "code",
   "execution_count": 2,
   "id": "5f289158",
   "metadata": {},
   "outputs": [
    {
     "name": "stdout",
     "output_type": "stream",
     "text": [
      "project_root /home/shivam/Aalto Dropbox/Shivam Chaubey/research_work/codes/assistive_system/dev/misc\n"
     ]
    }
   ],
   "source": [
    "import sys, os\n",
    "from pathlib import Path\n",
    "\n",
    "sys.path.insert(0, '../')\n",
    "import config1\n",
    "cfg = config1.config()"
   ]
  },
  {
   "cell_type": "code",
   "execution_count": 3,
   "id": "bdacf5f1",
   "metadata": {},
   "outputs": [
    {
     "name": "stdout",
     "output_type": "stream",
     "text": [
      "project_root /home/shivam/Aalto Dropbox/Shivam Chaubey/research_work/codes/assistive_system/dev/misc\n",
      "<<<<<<<<<< matlab engine initialization >>>>>>>>>\n",
      "matlab engine started: path /home/shivam/Aalto Dropbox/Shivam Chaubey/research_work/codes/assistive_system/dev/misc/lib\n",
      "Warning: Function dissect has the same name as a MATLAB builtin. We suggest you rename the function to avoid a potential name conflict.\n",
      "> In path (line 109)\n",
      "In addpath (line 86)\n",
      "Warning: Function ishermitian has the same name as a MATLAB builtin. We suggest you rename the function to avoid a potential name conflict.\n",
      "> In path (line 109)\n",
      "In addpath (line 86)\n",
      "Warning: Function issymmetric has the same name as a MATLAB builtin. We suggest you rename the function to avoid a potential name conflict.\n",
      "> In path (line 109)\n",
      "In addpath (line 86)\n",
      "matlab engine started: path /home/shivam/Aalto Dropbox/Shivam Chaubey/research_work/codes/assistive_system/dev/misc/lib\n",
      "Warning: Function dissect has the same name as a MATLAB builtin. We suggest you rename the function to avoid a potential name conflict.\n",
      "> In path (line 109)\n",
      "In addpath (line 86)\n",
      "Warning: Function ishermitian has the same name as a MATLAB builtin. We suggest you rename the function to avoid a potential name conflict.\n",
      "> In path (line 109)\n",
      "In addpath (line 86)\n",
      "Warning: Function issymmetric has the same name as a MATLAB builtin. We suggest you rename the function to avoid a potential name conflict.\n",
      "> In path (line 109)\n",
      "In addpath (line 86)\n",
      "matlab engine started: path /home/shivam/Aalto Dropbox/Shivam Chaubey/research_work/codes/assistive_system/dev/misc/lib\n",
      "Warning: Function dissect has the same name as a MATLAB builtin. We suggest you rename the function to avoid a potential name conflict.\n",
      "> In path (line 109)\n",
      "In addpath (line 86)\n",
      "Warning: Function ishermitian has the same name as a MATLAB builtin. We suggest you rename the function to avoid a potential name conflict.\n",
      "> In path (line 109)\n",
      "In addpath (line 86)\n",
      "Warning: Function issymmetric has the same name as a MATLAB builtin. We suggest you rename the function to avoid a potential name conflict.\n",
      "> In path (line 109)\n",
      "In addpath (line 86)\n",
      "unknown error\n",
      "matlab engine started: path /home/shivam/Aalto Dropbox/Shivam Chaubey/research_work/codes/assistive_system/dev/misc/lib\n"
     ]
    },
    {
     "ename": "AttributeError",
     "evalue": "'NoneType' object has no attribute 'genpath'",
     "output_type": "error",
     "traceback": [
      "\u001b[0;31m---------------------------------------------------------------------------\u001b[0m",
      "\u001b[0;31mAttributeError\u001b[0m                            Traceback (most recent call last)",
      "Cell \u001b[0;32mIn[3], line 32\u001b[0m\n\u001b[1;32m     27\u001b[0m \u001b[38;5;28;01mfrom\u001b[39;00m \u001b[38;5;21;01mCIS_computation\u001b[39;00m \u001b[38;5;28;01mimport\u001b[39;00m ExtractCIS\n\u001b[1;32m     28\u001b[0m cis_builder \u001b[38;5;241m=\u001b[39m ExtractCIS(cfg, Fx_list \u001b[38;5;241m=\u001b[39m Fx_list, fx_list \u001b[38;5;241m=\u001b[39m fx_list,\n\u001b[1;32m     29\u001b[0m                 Gu \u001b[38;5;241m=\u001b[39m Gu, gu \u001b[38;5;241m=\u001b[39m gu, E \u001b[38;5;241m=\u001b[39m E, Gw \u001b[38;5;241m=\u001b[39m Gw, \n\u001b[1;32m     30\u001b[0m                 Fw \u001b[38;5;241m=\u001b[39m Fw, use_matlab \u001b[38;5;241m=\u001b[39m \u001b[38;5;28;01mFalse\u001b[39;00m, safe_set_path \u001b[38;5;241m=\u001b[39m \u001b[38;5;28;01mNone\u001b[39;00m)\n\u001b[0;32m---> 32\u001b[0m \u001b[43mcis_builder\u001b[49m\u001b[38;5;241;43m.\u001b[39;49m\u001b[43mcompute_cis\u001b[49m\u001b[43m(\u001b[49m\u001b[43m)\u001b[49m\n\u001b[1;32m     33\u001b[0m cis_builder\u001b[38;5;241m.\u001b[39msave_cis_npz()\n\u001b[1;32m     34\u001b[0m \u001b[38;5;28mprint\u001b[39m(\u001b[38;5;124m\"\u001b[39m\u001b[38;5;124mCIS computation finished.\u001b[39m\u001b[38;5;124m\"\u001b[39m)\n",
      "File \u001b[0;32m~/Aalto Dropbox/Shivam Chaubey/research_work/codes/assistive_system/dev/misc/lib/CIS_computation.py:94\u001b[0m, in \u001b[0;36mExtractCIS.compute_cis\u001b[0;34m(self)\u001b[0m\n\u001b[1;32m     92\u001b[0m \u001b[38;5;28mprint\u001b[39m(\u001b[38;5;124m\"\u001b[39m\u001b[38;5;124m<<<<<<<<<< matlab engine initialization >>>>>>>>>\u001b[39m\u001b[38;5;124m\"\u001b[39m)\n\u001b[1;32m     93\u001b[0m t0 \u001b[38;5;241m=\u001b[39m time\u001b[38;5;241m.\u001b[39mperf_counter()\n\u001b[0;32m---> 94\u001b[0m engines \u001b[38;5;241m=\u001b[39m [\u001b[38;5;28mself\u001b[39m\u001b[38;5;241m.\u001b[39mstart_matlab_engine(\u001b[38;5;28mself\u001b[39m\u001b[38;5;241m.\u001b[39mcfg\u001b[38;5;241m.\u001b[39mlib_path)\n\u001b[1;32m     95\u001b[0m         \u001b[38;5;28;01mfor\u001b[39;00m _ \u001b[38;5;129;01min\u001b[39;00m \u001b[38;5;28mrange\u001b[39m(num_engines)]\n\u001b[1;32m     96\u001b[0m \u001b[38;5;28mprint\u001b[39m(\u001b[38;5;124m\"\u001b[39m\u001b[38;5;124mtime taken for matlab engine initialization:\u001b[39m\u001b[38;5;124m\"\u001b[39m, time\u001b[38;5;241m.\u001b[39mperf_counter() \u001b[38;5;241m-\u001b[39m t0)\n\u001b[1;32m     98\u001b[0m \u001b[38;5;66;03m# Constants (already prepared in initialize_inequality)\u001b[39;00m\n",
      "File \u001b[0;32m~/Aalto Dropbox/Shivam Chaubey/research_work/codes/assistive_system/dev/misc/lib/CIS_computation.py:94\u001b[0m, in \u001b[0;36m<listcomp>\u001b[0;34m(.0)\u001b[0m\n\u001b[1;32m     92\u001b[0m \u001b[38;5;28mprint\u001b[39m(\u001b[38;5;124m\"\u001b[39m\u001b[38;5;124m<<<<<<<<<< matlab engine initialization >>>>>>>>>\u001b[39m\u001b[38;5;124m\"\u001b[39m)\n\u001b[1;32m     93\u001b[0m t0 \u001b[38;5;241m=\u001b[39m time\u001b[38;5;241m.\u001b[39mperf_counter()\n\u001b[0;32m---> 94\u001b[0m engines \u001b[38;5;241m=\u001b[39m [\u001b[38;5;28;43mself\u001b[39;49m\u001b[38;5;241;43m.\u001b[39;49m\u001b[43mstart_matlab_engine\u001b[49m\u001b[43m(\u001b[49m\u001b[38;5;28;43mself\u001b[39;49m\u001b[38;5;241;43m.\u001b[39;49m\u001b[43mcfg\u001b[49m\u001b[38;5;241;43m.\u001b[39;49m\u001b[43mlib_path\u001b[49m\u001b[43m)\u001b[49m\n\u001b[1;32m     95\u001b[0m         \u001b[38;5;28;01mfor\u001b[39;00m _ \u001b[38;5;129;01min\u001b[39;00m \u001b[38;5;28mrange\u001b[39m(num_engines)]\n\u001b[1;32m     96\u001b[0m \u001b[38;5;28mprint\u001b[39m(\u001b[38;5;124m\"\u001b[39m\u001b[38;5;124mtime taken for matlab engine initialization:\u001b[39m\u001b[38;5;124m\"\u001b[39m, time\u001b[38;5;241m.\u001b[39mperf_counter() \u001b[38;5;241m-\u001b[39m t0)\n\u001b[1;32m     98\u001b[0m \u001b[38;5;66;03m# Constants (already prepared in initialize_inequality)\u001b[39;00m\n",
      "File \u001b[0;32m~/Aalto Dropbox/Shivam Chaubey/research_work/codes/assistive_system/dev/misc/lib/CIS_computation.py:188\u001b[0m, in \u001b[0;36mExtractCIS.start_matlab_engine\u001b[0;34m(matlab_cis_path)\u001b[0m\n\u001b[1;32m    185\u001b[0m eng \u001b[38;5;241m=\u001b[39m matlab\u001b[38;5;241m.\u001b[39mengine\u001b[38;5;241m.\u001b[39mstart_matlab()\n\u001b[1;32m    187\u001b[0m \u001b[38;5;28mprint\u001b[39m (\u001b[38;5;124m\"\u001b[39m\u001b[38;5;124mmatlab engine started: path\u001b[39m\u001b[38;5;124m\"\u001b[39m, matlab_cis_path)\n\u001b[0;32m--> 188\u001b[0m \u001b[43mExtractCIS\u001b[49m\u001b[38;5;241;43m.\u001b[39;49m\u001b[43madd_path\u001b[49m\u001b[43m(\u001b[49m\u001b[43meng\u001b[49m\u001b[43m,\u001b[49m\u001b[43m \u001b[49m\u001b[43mmatlab_cis_path\u001b[49m\u001b[43m)\u001b[49m\n\u001b[1;32m    189\u001b[0m \u001b[38;5;28;01mreturn\u001b[39;00m eng\n",
      "File \u001b[0;32m~/Aalto Dropbox/Shivam Chaubey/research_work/codes/assistive_system/dev/misc/lib/CIS_computation.py:168\u001b[0m, in \u001b[0;36mExtractCIS.add_path\u001b[0;34m(eng, path)\u001b[0m\n\u001b[1;32m    166\u001b[0m \u001b[38;5;129m@staticmethod\u001b[39m\n\u001b[1;32m    167\u001b[0m \u001b[38;5;28;01mdef\u001b[39;00m \u001b[38;5;21madd_path\u001b[39m( eng, path):\n\u001b[0;32m--> 168\u001b[0m     generated_path \u001b[38;5;241m=\u001b[39m \u001b[43meng\u001b[49m\u001b[38;5;241;43m.\u001b[39;49m\u001b[43mgenpath\u001b[49m(path)\n\u001b[1;32m    169\u001b[0m     \u001b[38;5;66;03m# print(\"Return command add path:\", generated_path)\u001b[39;00m\n\u001b[1;32m    170\u001b[0m \n\u001b[1;32m    171\u001b[0m     \u001b[38;5;66;03m# Add the path to MATLAB's search path\u001b[39;00m\n\u001b[1;32m    172\u001b[0m     eng\u001b[38;5;241m.\u001b[39maddpath(generated_path)\n",
      "\u001b[0;31mAttributeError\u001b[0m: 'NoneType' object has no attribute 'genpath'"
     ]
    }
   ],
   "source": [
    "    sys.path.insert(0,'../')\n",
    "    from config1 import config\n",
    "    cfg = config()\n",
    "\n",
    "    from constraint_builder import ConstraintHelper\n",
    "\n",
    "    helper = ConstraintHelper(eps=0.0)\n",
    "\n",
    "    Workspace = np.array([[178, 47], [704, 47], [704, 817], [178, 817]], dtype=float)\n",
    "    Obs1 = np.array([[568, 429], [703, 429], [703, 816], [568, 816]], dtype=float)\n",
    "    Obs2 = np.array([[308, 181], [438, 181], [438, 691], [308, 691]], dtype=float)\n",
    "    Obs3 = np.array([[437,  47], [568,  47], [568, 309], [437, 309]], dtype=float)\n",
    "    vel_vertices   = np.array([[0.05, 0.05], [0.05, -0.05], [-0.05, -0.05], [-0.05, 0.05]], dtype=float)\n",
    "    accel_vertices = np.array([[1.0, 1.0], [1.0, -1.0], [-1.0, -1.0], [-1.0, 1.0]], dtype=float)\n",
    "\n",
    "    Fx_list, fx_list, Gu, gu = helper.construct_state_constraints(\n",
    "        workspace_vertices=Workspace,\n",
    "        obstacle_vertices_list=[Obs1, Obs2, Obs3],\n",
    "        vel_vertices=vel_vertices,\n",
    "        accel_vertices=accel_vertices,\n",
    "    )\n",
    "\n",
    "    E = cfg.E\n",
    "    Gw = cfg.Gw\n",
    "    Fw = cfg.Fw\n",
    "\n",
    "    from CIS_computation import ExtractCIS\n",
    "    cis_builder = ExtractCIS(cfg, Fx_list = Fx_list, fx_list = fx_list,\n",
    "                    Gu = Gu, gu = gu, E = E, Gw = Gw, \n",
    "                    Fw = Fw, use_matlab = False, safe_set_path = None)\n",
    "\n",
    "    cis_builder.compute_cis()\n",
    "    cis_builder.save_cis_npz()\n",
    "    print(\"CIS computation finished.\")\n",
    "    print(\"C_list:\", cis_builder.C_list)\n",
    "    print(\"c_list:\", cis_builder.c_list)\n"
   ]
  },
  {
   "cell_type": "code",
   "execution_count": 4,
   "id": "18e60248",
   "metadata": {},
   "outputs": [],
   "source": [
    "\n",
    "def load_cis_npz(path):\n",
    "    \"\"\"Load CIS .npz and return a handy dict with Python-native types.\"\"\"\n",
    "    data = np.load(path, allow_pickle=True)\n",
    "\n",
    "    out = {\n",
    "        # compact CIS: nested list of [H|f] arrays (each is shape (m_i, n+1))\n",
    "        # split forms, if you want them\n",
    "        \"C_list\":   data[\"C_list\"].tolist(),   # nested list of H arrays\n",
    "        \"c_list\":   data[\"c_list\"].tolist(),   # nested list of f arrays\n",
    "\n",
    "        # system and constraints\n",
    "        \"A\":  data[\"A\"],\n",
    "        \"B\":  data[\"B\"],\n",
    "        \"Fx_list\": data[\"Fx_list\"].tolist(),\n",
    "        \"fx_list\": data[\"fx_list\"].tolist(),\n",
    "        \"Gu\": data[\"Gu\"],\n",
    "        \"gu\": data[\"gu\"],\n",
    "        \"E\":  data[\"E\"],\n",
    "        \"Gw\": data[\"Gw\"],\n",
    "        \"Fw\": data[\"Fw\"],\n",
    "        \"fw\": data[\"fw\"],  # alias\n",
    "\n",
    "        # config/meta (stored as a Python dict)\n",
    "        \"L\": data[\"L\"].item(),\n",
    "        \"T\": data[\"T\"].item(),\n",
    "        \"implicit\": bool(data[\"implicit\"]),\n",
    "    }\n",
    "    return out"
   ]
  },
  {
   "cell_type": "code",
   "execution_count": null,
   "id": "2fcc9b84",
   "metadata": {},
   "outputs": [
    {
     "name": "stdout",
     "output_type": "stream",
     "text": [
      "project_root /home/shivam/Aalto Dropbox/Shivam Chaubey/research_work/codes/assistive_system/dev/misc\n",
      "i, j 0 0\n",
      "sp.csr_matrix((mC_ij, n)), (12, 4)\n",
      "i, j 0 1\n",
      "sp.csr_matrix((mC_ij, n)), (12, 4)\n",
      "i, j 0 2\n",
      "sp.csr_matrix((mC_ij, n)), (12, 4)\n",
      "i, j 0 3\n",
      "sp.csr_matrix((mC_ij, n)), (12, 4)\n",
      "i, j 1 0\n",
      "sp.csr_matrix((mC_ij, n)), (12, 4)\n",
      "i, j 1 1\n",
      "sp.csr_matrix((mC_ij, n)), (12, 4)\n",
      "i, j 1 2\n",
      "sp.csr_matrix((mC_ij, n)), (12, 4)\n",
      "i, j 1 3\n",
      "sp.csr_matrix((mC_ij, n)), (12, 4)\n",
      "i, j 2 0\n",
      "sp.csr_matrix((mC_ij, n)), (12, 4)\n",
      "i, j 2 1\n",
      "sp.csr_matrix((mC_ij, n)), (12, 4)\n",
      "i, j 2 2\n",
      "sp.csr_matrix((mC_ij, n)), (12, 4)\n"
     ]
    }
   ],
   "source": [
    "from assistive_control import MIQSingleStep\n",
    "\n",
    "cfg = config1.config()\n",
    "\n",
    "saved_CIS = load_cis_npz(cfg.save_cis_path)\n",
    "A = saved_CIS[\"A\"]\n",
    "B = saved_CIS[\"B\"]\n",
    "Fx_list = saved_CIS[\"Fx_list\"]\n",
    "fx_list = saved_CIS[\"fx_list\"]\n",
    "Gu = saved_CIS[\"Gu\"]\n",
    "gu = saved_CIS[\"gu\"]\n",
    "E = saved_CIS[\"E\"]\n",
    "Gw = saved_CIS[\"Gw\"]\n",
    "Fw = saved_CIS[\"Fw\"]\n",
    "fw = saved_CIS[\"fw\"]\n",
    "\n",
    "C_list = saved_CIS[\"C_list\"]\n",
    "c_list = saved_CIS[\"c_list\"]\n",
    "\n",
    "N = 100\n",
    "xref = []\n",
    "uref = [[0.1, 0.1] for i in range(N-1)]\n",
    "# F = cfg.Fx\n",
    "# f = cfg.fx\n",
    "F = None; f = None\n",
    "# A = cfg.A; B = cfg.B\n",
    "G = None; g = None\n",
    "# C_list = cfg.C_list; c_list = cfg.c_list\n",
    "\n",
    "\n",
    "miqp = MIQSingleStep(A, B, Fxmat = F, fxvec = f, Gumat = G, guvec = g,\n",
    "T_list=None, t_list=None, C_list=C_list, c_list=c_list,\n",
    "M=10e8, u_ref=None,\n",
    "gurobi_params=None, method = \"gurobi\", warm_start=False)\n",
    "\n",
    "x0 = np.array([0.695, 0.160, 0.055, 0.055])\n",
    "miqp.init_prob(x0)"
   ]
  },
  {
   "cell_type": "code",
   "execution_count": 6,
   "id": "085a0431",
   "metadata": {},
   "outputs": [
    {
     "name": "stdout",
     "output_type": "stream",
     "text": [
      "i, j 0 0\n",
      "sp.csr_matrix((mC_ij, n)), (12, 4)\n",
      "i, j 0 1\n",
      "sp.csr_matrix((mC_ij, n)), (12, 4)\n",
      "i, j 1 0\n",
      "sp.csr_matrix((mC_ij, n)), (12, 4)\n",
      "i, j 1 1\n",
      "sp.csr_matrix((mC_ij, n)), (12, 4)\n",
      "i, j 1 2\n",
      "sp.csr_matrix((mC_ij, n)), (12, 4)\n",
      "i, j 1 3\n",
      "sp.csr_matrix((mC_ij, n)), (12, 4)\n",
      "i, j 2 0\n",
      "sp.csr_matrix((mC_ij, n)), (12, 4)\n",
      "i, j 2 1\n",
      "sp.csr_matrix((mC_ij, n)), (12, 4)\n",
      "i, j 2 2\n",
      "sp.csr_matrix((mC_ij, n)), (12, 4)\n"
     ]
    }
   ],
   "source": [
    "miqp = MIQSingleStep(A, B, Fxmat = F, fxvec = f, Gumat = G, guvec = g,\n",
    "T_list=None, t_list=None, C_list=cfg.C_list, c_list=cfg.c_list,\n",
    "M=10e8, u_ref=None,\n",
    "gurobi_params=None, method = \"gurobi\", warm_start=False)\n",
    "miqp.init_prob(x0)"
   ]
  },
  {
   "cell_type": "code",
   "execution_count": null,
   "id": "ddf43fe3",
   "metadata": {},
   "outputs": [
    {
     "data": {
      "text/plain": [
       "[array([[  99.50249,    0.     ,    5.02488,    0.     ],\n",
       "        [ -99.50249,    0.     ,   -5.02488,    0.     ],\n",
       "        [ 140.71603,    0.     ,    0.     ,    0.     ],\n",
       "        [-140.71603,    0.     ,    0.     ,    0.     ],\n",
       "        [   0.     , -140.71603,    0.     ,    0.     ],\n",
       "        [   0.     ,    0.     ,   -7.07107,    0.     ],\n",
       "        [   0.     ,    0.     ,    0.     ,   -7.07107],\n",
       "        [   0.     ,  140.71603,    0.     ,    0.     ],\n",
       "        [   0.     ,    0.     ,    7.07107,    0.     ],\n",
       "        [   0.     ,    0.     ,    0.     ,    7.07107],\n",
       "        [   0.     ,   99.50249,    0.     ,    5.02488],\n",
       "        [   0.     ,  -99.50249,    0.     ,   -5.02488]]),\n",
       " array([[  99.50249,    0.     ,    5.02488,    0.     ],\n",
       "        [ -99.50249,    0.     ,   -5.02488,    0.     ],\n",
       "        [   0.     , -140.71603,    0.     ,    0.     ],\n",
       "        [-140.71603,    0.     ,    0.     ,    0.     ],\n",
       "        [   0.     ,    0.     ,   -7.07107,    0.     ],\n",
       "        [   0.     ,    0.     ,    0.     ,   -7.07107],\n",
       "        [ 140.71603,    0.     ,    0.     ,    0.     ],\n",
       "        [   0.     ,  140.71603,    0.     ,    0.     ],\n",
       "        [   0.     ,    0.     ,    7.07107,    0.     ],\n",
       "        [   0.     ,    0.     ,    0.     ,    7.07107],\n",
       "        [   0.     ,   99.50249,    0.     ,    5.02488],\n",
       "        [   0.     ,  -99.50249,    0.     ,   -5.02488]])]"
      ]
     },
     "execution_count": 39,
     "metadata": {},
     "output_type": "execute_result"
    }
   ],
   "source": [
    "cfg.C_list[0]"
   ]
  },
  {
   "cell_type": "code",
   "execution_count": null,
   "id": "bebc058c",
   "metadata": {},
   "outputs": [
    {
     "data": {
      "text/plain": [
       "(0, 0)"
      ]
     },
     "execution_count": 50,
     "metadata": {},
     "output_type": "execute_result"
    }
   ],
   "source": [
    "C_list = saved_CIS[\"C_list\"]\n",
    "C_list[2][1].shape"
   ]
  },
  {
   "cell_type": "code",
   "execution_count": null,
   "id": "ed102f95",
   "metadata": {},
   "outputs": [
    {
     "data": {
      "text/plain": [
       "array([ 56517.05099, -17711.63913,  79926.39217,  -6613.7378 ,\n",
       "       -25047.64592, 114964.94623,      0.21771,      0.32583,\n",
       "            0.30257,      0.2467 ,  81293.65913,  -4676.54351])"
      ]
     },
     "execution_count": 44,
     "metadata": {},
     "output_type": "execute_result"
    }
   ],
   "source": [
    "c_list[0][0]"
   ]
  },
  {
   "cell_type": "code",
   "execution_count": null,
   "id": "d768088b",
   "metadata": {},
   "outputs": [],
   "source": [
    "\n",
    "\n",
    "T_list = np.vstack([F, Fx])\n",
    "t_list = np.hstack([fvec, fxvec])\n"
   ]
  },
  {
   "cell_type": "code",
   "execution_count": null,
   "id": "f29a99fd",
   "metadata": {},
   "outputs": [
    {
     "data": {
      "text/plain": [
       "array([-1., -0.,  0.,  0.])"
      ]
     },
     "execution_count": 13,
     "metadata": {},
     "output_type": "execute_result"
    }
   ],
   "source": [
    "F"
   ]
  }
 ],
 "metadata": {
  "kernelspec": {
   "display_name": "Python 3",
   "language": "python",
   "name": "python3"
  },
  "language_info": {
   "codemirror_mode": {
    "name": "ipython",
    "version": 3
   },
   "file_extension": ".py",
   "mimetype": "text/x-python",
   "name": "python",
   "nbconvert_exporter": "python",
   "pygments_lexer": "ipython3",
   "version": "3.8.10"
  }
 },
 "nbformat": 4,
 "nbformat_minor": 5
}
