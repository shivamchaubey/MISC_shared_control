{
 "cells": [
  {
   "cell_type": "code",
   "execution_count": 1,
   "id": "f92bed43",
   "metadata": {},
   "outputs": [],
   "source": [
    "\n",
    "\n",
    "import numpy as np\n",
    "from helper import NonConvexDecomposition\n",
    "import polytope  \n",
    "\n",
    "### Velocity constraints\n",
    "vx_max = 0.05  # Maximum velocity in x-direction (m/s)\n",
    "vy_max = 0.05  # Maximum velocity in y-direction (m/s)\n",
    "vel_vertices = np.array([[vx_max, vy_max], [vx_max, -vy_max], [-vx_max, -vy_max], [-vx_max, vy_max]])\n",
    "\n",
    "\n",
    "#### Acceleration constraints\n",
    "ax_max = 1.0  # Maximum acceleration in x-direction (m/s^2)\n",
    "ay_max = 1.0  # Maximum acceleration in y-direction (m/s^2)\n",
    "accel_vertices = np.array([[ax_max, ay_max], [ax_max, -ay_max], [-ax_max, -ay_max], [-ax_max, ay_max]])\n",
    "\n",
    "\n",
    "### In X-Y coordinate ###\n",
    "Workspace = np.array(([[178,  47],\n",
    "    [704,  47],\n",
    "    [704, 817],\n",
    "    [178, 817]]))\n",
    "\n",
    "\n",
    "## Convex Unsafe Region: Like vertices \n",
    "# Obs1 =  [array([[568, 429],\n",
    "Obs1 = np.array([[568, 429],\n",
    "                [703, 429],\n",
    "                [703, 816],\n",
    "                [568, 816]])\n",
    "\n",
    "Obs2 = np.array([[308, 181],\n",
    "                [438, 181],\n",
    "                [438, 691],\n",
    "                [308, 691]]) \n",
    "\n",
    "Obs3 = np.array([[437,  47],\n",
    "                [568,  47],\n",
    "                [568, 309],\n",
    "                [437, 309]])\n",
    "\n",
    "# Convex Inequality Constraints: Ax <= b\n",
    "w_poly = poly = polytope.qhull(Workspace)\n",
    "Obs = [Obs1, Obs2, Obs3]\n",
    "obs_poly = [polytope.qhull(box) for box in Obs]\n",
    "vel_poly = polytope.qhull(vel_vertices)\n",
    "accel_poly = polytope.qhull(accel_vertices)\n",
    "\n",
    "wA = w_poly.A\n",
    "wb = w_poly.b\n",
    "\n",
    "## velocity convex constraint\n",
    "## 0, 0 at x-y coordinate only vx, vy is constrained.\n",
    "F_v = np.hstack([np.zeros((vel_poly.A.shape[0], 2)), vel_poly.A])\n",
    "f_v = vel_poly.b\n",
    "\n",
    "# Sate Convex Inequality Constraints: Ax <= b\n",
    "F_w = np.hstack([wA, np.zeros((wA.shape[0], 2))])\n",
    "f_w = wb\n",
    "\n",
    "# Obstacle unsafe region\n",
    "## For each obstacle polygon convex unsafe set in x-y coor, 0, 0, added for velocity\n",
    "F_obs = []\n",
    "for obs in obs_poly:\n",
    "    F = np.hstack([obs.A, np.zeros((obs.A.shape[0], 2))])\n",
    "    fvec = obs.b\n",
    "    F_obs.append((F, fvec))\n",
    "\n",
    "safe_state_sets = [\n",
    "(F_w, f_w),\n",
    "(F_v, f_v),\n",
    "]\n",
    "\n",
    "# 2) Unsafe sets (inside of obstacles) as (A, b) with A x <= b\n",
    "unsafe_state_sets = []\n",
    "for obs in F_obs:\n",
    "    unsafe_state_sets.append((np.asarray(obs[0], dtype=float), np.asarray(obs[1], dtype=float)))\n",
    "\n",
    "# 3) Build facet-wise disjunctions with an optional margin (eps)\n",
    "nonconvex_decomp = NonConvexDecomposition(eps=0.0)\n",
    "Fx_list, fx_list = nonconvex_decomp.build(safe_state_sets, unsafe_state_sets)\n",
    "\n",
    "Gu = accel_poly.A\n",
    "gu = accel_poly.b\n",
    "\n",
    "# State transition matrix with damping\n",
    "dt = 0.1; damping_fun = 1 - 0.1 * dt\n",
    "A = np.array([[1, 0, dt, 0],\n",
    "                   [0, 1, 0, dt],\n",
    "                   [0, 0, damping_fun, 0],\n",
    "                   [0, 0, 0, damping_fun]])\n",
    "\n",
    "B = np.array([[0.5 * dt**2, 0],\n",
    "           [0, 0.5 * dt**2],\n",
    "           [dt, 0],\n",
    "           [0, dt]])\n",
    "\n",
    "\n",
    "E = np.array([[1., 0., 0., 0.],\n",
    "                           [0., 1., 0., 0.],\n",
    "                           [0., 0., 1., 0.],\n",
    "                           [0., 0., 0., 1.]])\n",
    "\n",
    "Gw = np.array([[ 1.,  0.,  0.,  0.],\n",
    "                             [ 0.,  1.,  0.,  0.],\n",
    "                             [ 0.,  0.,  1.,  0.],\n",
    "                             [ 0.,  0.,  0.,  1.],\n",
    "                             [-1., -0., -0., -0.],\n",
    "                             [-0., -1., -0., -0.],\n",
    "                             [-0., -0., -1., -0.],\n",
    "                             [-0., -0., -0., -1.]])\n",
    "        \n",
    "Fw = np.array([[0.00220696731294516, 0.00033361141907932, 0.01511132840251176, 0.00392036854057386, 0.00137375336326578, 0.00060107734896421, 0.01921057797980761, 0.00721068247405685]]).T\n",
    "      "
   ]
  },
  {
   "cell_type": "code",
   "execution_count": 2,
   "id": "5f289158",
   "metadata": {},
   "outputs": [
    {
     "name": "stdout",
     "output_type": "stream",
     "text": [
      "project_root /home/shivam/Aalto Dropbox/Shivam Chaubey/research_work/codes/assistive_system/dev/misc\n"
     ]
    }
   ],
   "source": [
    "import sys, os\n",
    "from pathlib import Path\n",
    "\n",
    "sys.path.insert(0, '../')\n",
    "import config1\n",
    "cfg = config1.config()"
   ]
  },
  {
   "cell_type": "code",
   "execution_count": 3,
   "id": "bdacf5f1",
   "metadata": {},
   "outputs": [
    {
     "name": "stdout",
     "output_type": "stream",
     "text": [
      "allMatlabIds []\n"
     ]
    }
   ],
   "source": [
    "from CIS_computation import ExtractCIS\n",
    "cis_builder = ExtractCIS(cfg, Fx_list = Fx_list, fx_list = fx_list,\n",
    "                 Gu = Gu, gu = gu, E = E, Gw = Gw, \n",
    "                 Fw = Fw, use_matlab = False, safe_set_path = None)"
   ]
  },
  {
   "cell_type": "code",
   "execution_count": null,
   "id": "2fcc9b84",
   "metadata": {},
   "outputs": [
    {
     "ename": "SyntaxError",
     "evalue": "unexpected EOF while parsing (2193774569.py, line 6)",
     "output_type": "error",
     "traceback": [
      "\u001b[0;36m  Cell \u001b[0;32mIn[4], line 6\u001b[0;36m\u001b[0m\n\u001b[0;31m    # T_list.append((F[i], fvec[i]))\u001b[0m\n\u001b[0m                                    ^\u001b[0m\n\u001b[0;31mSyntaxError\u001b[0m\u001b[0;31m:\u001b[0m unexpected EOF while parsing\n"
     ]
    }
   ],
   "source": []
  },
  {
   "cell_type": "code",
   "execution_count": null,
   "id": "d768088b",
   "metadata": {},
   "outputs": [],
   "source": [
    "\n",
    "\n",
    "T_list = np.vstack([F, Fx])\n",
    "t_list = np.hstack([fvec, fxvec])\n"
   ]
  },
  {
   "cell_type": "code",
   "execution_count": null,
   "id": "f29a99fd",
   "metadata": {},
   "outputs": [
    {
     "data": {
      "text/plain": [
       "array([-1., -0.,  0.,  0.])"
      ]
     },
     "execution_count": 13,
     "metadata": {},
     "output_type": "execute_result"
    }
   ],
   "source": [
    "F"
   ]
  }
 ],
 "metadata": {
  "kernelspec": {
   "display_name": "Python 3",
   "language": "python",
   "name": "python3"
  },
  "language_info": {
   "codemirror_mode": {
    "name": "ipython",
    "version": 3
   },
   "file_extension": ".py",
   "mimetype": "text/x-python",
   "name": "python",
   "nbconvert_exporter": "python",
   "pygments_lexer": "ipython3",
   "version": "3.8.10"
  }
 },
 "nbformat": 4,
 "nbformat_minor": 5
}
